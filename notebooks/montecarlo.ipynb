{
 "cells": [
  {
   "cell_type": "code",
   "execution_count": 1,
   "id": "8fecb68a-ac3a-4cc6-9aa2-1c96b05bb7cb",
   "metadata": {
    "tags": []
   },
   "outputs": [],
   "source": [
    "import numpy as np\n",
    "import matplotlib as mpl\n",
    "import matplotlib.pyplot as plt\n",
    "import matplotlib.mlab as mlab\n",
    "import xarray as xr\n",
    "import os\n",
    "import random\n",
    "from scipy.stats import linregress, norm, ttest_1samp, t\n",
    "\n",
    "mpl.rcParams[\"figure.figsize\"] = 6, 4\n",
    "mpl.rcParams[\"font.size\"] = 12"
   ]
  },
  {
   "cell_type": "code",
   "execution_count": 2,
   "id": "4dcaf500-a19b-4ec9-9475-c1ee86cfce53",
   "metadata": {
    "tags": []
   },
   "outputs": [],
   "source": [
    "models = [\n",
    "    \"ACCESS-ESM1-5\",\n",
    "    \"CanESM5\",\n",
    "    \"CESM2\",\n",
    "    \"CNRM-CM6-1\",\n",
    "    \"EC-Earth3\",\n",
    "    \"GISS-E2-1-G\",\n",
    "    \"GISS-E2-1-H\",\n",
    "    \"INM-CM5-0\",\n",
    "    \"IPSL-CM6A-LR\",\n",
    "    \"MIROC6\",\n",
    "    \"MIROC-ES2L\",\n",
    "    \"MPI-ESM1-2-LR\",\n",
    "    \"MPI-ESM1-2-HR\",\n",
    "    \"MRI-ESM2-0\",\n",
    "    \"NorCPM1\",\n",
    "    \"UKESM1-0-LL\",\n",
    "]\n",
    "\n",
    "variables = [\"tas\", \"rsut\", \"rsdt\"]"
   ]
  },
  {
   "cell_type": "markdown",
   "id": "a70f0467-e6f0-4f42-8773-1a871cb24db5",
   "metadata": {
    "tags": []
   },
   "source": [
    "### Load CMIP6 data"
   ]
  },
  {
   "cell_type": "code",
   "execution_count": 3,
   "id": "cc625198-97d9-47be-86cb-80dc35df2107",
   "metadata": {
    "tags": []
   },
   "outputs": [
    {
     "name": "stdout",
     "output_type": "stream",
     "text": [
      "Model = ACCESS-ESM1-5\n",
      "Model = CanESM5\n",
      "Model = CESM2\n",
      "Model = CNRM-CM6-1\n",
      "Model = EC-Earth3\n",
      "Model = GISS-E2-1-G\n",
      "Model = GISS-E2-1-H\n",
      "Model = INM-CM5-0\n",
      "Model = IPSL-CM6A-LR\n",
      "Model = MIROC6\n",
      "Model = MIROC-ES2L\n",
      "Model = MPI-ESM1-2-LR\n",
      "Model = MPI-ESM1-2-HR\n",
      "Model = MRI-ESM2-0\n",
      "Model = NorCPM1\n",
      "Model = UKESM1-0-LL\n"
     ]
    }
   ],
   "source": [
    "model_dict = {}\n",
    "\n",
    "droot = \"../data/processed\"\n",
    "\n",
    "for name in models:\n",
    "    print(f\"Model = {name}\")\n",
    "    model_dict[name] = {}\n",
    "    for var in variables:\n",
    "        ddir = os.path.join(droot, name, \"historical\")\n",
    "        if var == \"tas\":\n",
    "            dfile = var+\"_\"+name+\"_historical_ens_tseries_globmean_198001-201412.nc\"\n",
    "        else:\n",
    "            dfile = var+\"_\"+name+\"_historical_ens_tseries_tropmean_198001-201412.nc\"\n",
    "        ncf = os.path.join(ddir, dfile)\n",
    "        ds = xr.open_dataset(ncf)\n",
    "\n",
    "        model_dict[name][var] = ds[var]\n",
    "        \n",
    "    model_dict[name][\"rsnt\"] = model_dict[name][\"rsdt\"] - model_dict[name][\"rsut\"]"
   ]
  },
  {
   "cell_type": "code",
   "execution_count": 4,
   "id": "d4dbbe17-48e3-4aad-b3aa-e924480c170c",
   "metadata": {
    "tags": []
   },
   "outputs": [],
   "source": [
    "def detrend_dim(da, dim, deg=1):\n",
    "    # detrend along a single dimension\n",
    "    dafit = da.where(np.logical_or(da.time < np.datetime64(\"1991-06\"),\n",
    "                                   da.time > np.datetime64(\"2001-05\")),\n",
    "                      drop=True)\n",
    "    p = dafit.polyfit(dim=dim, deg=deg)\n",
    "    fit = xr.polyval(da[dim], p.polyfit_coefficients)\n",
    "    return da - fit"
   ]
  },
  {
   "cell_type": "markdown",
   "id": "6d9c0bae-6d6a-4db9-88f5-0c48f76d7e79",
   "metadata": {
    "tags": []
   },
   "source": [
    "### Compute anomalies"
   ]
  },
  {
   "cell_type": "code",
   "execution_count": 5,
   "id": "cc7b8349-523a-42b6-8f79-b62d0188304e",
   "metadata": {
    "tags": []
   },
   "outputs": [
    {
     "name": "stdout",
     "output_type": "stream",
     "text": [
      "Model = ACCESS-ESM1-5\n",
      "Model = CanESM5\n",
      "Model = CESM2\n",
      "Model = CNRM-CM6-1\n",
      "Model = EC-Earth3\n",
      "Model = GISS-E2-1-G\n",
      "Model = GISS-E2-1-H\n",
      "Model = INM-CM5-0\n",
      "Model = IPSL-CM6A-LR\n",
      "Model = MIROC6\n",
      "Model = MIROC-ES2L\n",
      "Model = MPI-ESM1-2-LR\n",
      "Model = MPI-ESM1-2-HR\n",
      "Model = MRI-ESM2-0\n",
      "Model = NorCPM1\n",
      "Model = UKESM1-0-LL\n"
     ]
    }
   ],
   "source": [
    "data_dict = {}\n",
    "\n",
    "for name in model_dict.keys():\n",
    "    if name == \"CESM2-LENS\":\n",
    "        tvar = \"TREFHT\"\n",
    "        rvar = \"FSNT\"\n",
    "        sgn = -1\n",
    "    else:\n",
    "        tvar = \"tas\"\n",
    "        rvar = \"rsut\"\n",
    "        sgn = 1\n",
    "\n",
    "    data_dict[name] = {}\n",
    "\n",
    "    print(f\"Model = {name}\")\n",
    "\n",
    "    temp = model_dict[name][tvar]\n",
    "    netsw = model_dict[name][rvar]\n",
    "\n",
    "    tanalysis = detrend_dim(temp.sel(time=slice(\"1986-01\", \"2005-12\")), \"time\")\n",
    "    tbase = tanalysis.sel(time=slice(\"1986-01\", \"1990-12\"))\n",
    "\n",
    "    sanalysis = detrend_dim(netsw.sel(time=slice(\"1986-01\", \"2005-12\")), \"time\")\n",
    "    sbase = sanalysis.sel(time=slice(\"1986-01\", \"1990-12\"))\n",
    "\n",
    "    tpert = tanalysis.groupby(\"time.month\") - tbase.groupby(\"time.month\").mean(\"time\")\n",
    "    spert = sanalysis.groupby(\"time.month\") - sbase.groupby(\"time.month\").mean(\"time\")\n",
    "\n",
    "    data_dict[name][\"tpert\"] = tpert.compute()\n",
    "    data_dict[name][\"spert\"] = sgn*spert.compute()\n",
    "    data_dict[name][\"ens\"] = tpert[\"ensmem\"].size"
   ]
  },
  {
   "cell_type": "markdown",
   "id": "13ab88cb-a5b6-4822-be10-770d6dacfb77",
   "metadata": {
    "tags": []
   },
   "source": [
    "### Integrate anomalies as in Bender et al., 2010"
   ]
  },
  {
   "cell_type": "code",
   "execution_count": 6,
   "id": "8656390e-7811-4a26-ae82-921c9be78615",
   "metadata": {
    "tags": []
   },
   "outputs": [],
   "source": [
    "int_dict = {}\n",
    "\n",
    "for name in model_dict.keys():\n",
    "    int_dict[name] = {}\n",
    "    int_dict[name][\"temp\"] = data_dict[name][\"tpert\"].sel(time=slice(\"1991-06\", \"1995-05\")).sum(\"time\")\n",
    "    int_dict[name][\"sw\"] = data_dict[name][\"spert\"].sel(time=slice(\"1991-06\", \"1993-05\")).sum(\"time\")\n",
    "    int_dict[name][\"ens\"] = data_dict[name][\"ens\"]"
   ]
  },
  {
   "cell_type": "markdown",
   "id": "19cc72e6-16b0-4d09-8fa5-475110cf2edf",
   "metadata": {
    "tags": []
   },
   "source": [
    "### Get ECS data from Zelinka et al., 2020"
   ]
  },
  {
   "cell_type": "code",
   "execution_count": 7,
   "id": "c30f2937-ae0b-478d-abf4-bfe7be33ab66",
   "metadata": {
    "tags": []
   },
   "outputs": [
    {
     "name": "stdout",
     "output_type": "stream",
     "text": [
      "ACCESS-ESM1-5 = 3.8839034758064814\n",
      "CanESM5 = 5.638903077035479\n",
      "CESM2 = 5.147915202979365\n",
      "CNRM-CM6-1 = 4.9036506204610255\n",
      "EC-Earth3 = 4.2600669989023405\n",
      "GISS-E2-1-G = 2.635084837796116\n",
      "GISS-E2-1-H = 3.1173410786926183\n",
      "INM-CM5-0 = 1.9158220047671057\n",
      "IPSL-CM6A-LR = 4.699160878253567\n",
      "MIROC6 = 2.601790969650521\n",
      "MIROC-ES2L = 2.6605264351565174\n",
      "MPI-ESM1-2-LR = 3.0254401947450527\n",
      "MPI-ESM1-2-HR = 2.9797516932086876\n",
      "MRI-ESM2-0 = 3.1327957128560495\n",
      "NorCPM1 = 3.0317257208870005\n",
      "UKESM1-0-LL = 5.359162439690016\n"
     ]
    }
   ],
   "source": [
    "import json\n",
    "f = open('../data/ecsdata/cmip56_forcing_feedback_ecs.json','r')\n",
    "data = json.load(f)\n",
    "\n",
    "ecs_dict = {}\n",
    "\n",
    "for name in models:\n",
    "    ens = list(data[\"CMIP6\"][name].keys())[0]\n",
    "    test = data[\"CMIP6\"][name][ens][\"ECS\"]\n",
    "    print(f\"{name} = {test}\")\n",
    "    ecs_dict[name] = test"
   ]
  },
  {
   "cell_type": "code",
   "execution_count": 8,
   "id": "ed5aaee3-eac5-4159-bc1b-2f01cb8593d3",
   "metadata": {
    "tags": []
   },
   "outputs": [],
   "source": [
    "N = 10000\n",
    "tslopes = np.zeros(N)\n",
    "sslopes = np.zeros(N)\n",
    "rslopes = np.zeros(N)\n",
    "\n",
    "rslopes_trunc = np.zeros(N)"
   ]
  },
  {
   "cell_type": "markdown",
   "id": "059772e4-42f3-4610-8df5-1bdffc5b6df3",
   "metadata": {
    "tags": []
   },
   "source": [
    "### Randomly choose same number of models and ensemble members as in Bender et al. compute ratio, and repeat N times"
   ]
  },
  {
   "cell_type": "code",
   "execution_count": 9,
   "id": "aba7b810-fb6b-4bf7-988b-a5c28e35280f",
   "metadata": {
    "tags": []
   },
   "outputs": [],
   "source": [
    "for n in range(N):\n",
    "    mod = random.sample(models, 9)\n",
    "\n",
    "    tdata = np.zeros(9)\n",
    "    sdata = np.zeros(9)\n",
    "    rdata = np.zeros(9)\n",
    "    ecs = np.zeros(9)\n",
    "    for m, name in enumerate(mod):\n",
    "        ens = np.arange(int_dict[name][\"ens\"])\n",
    "        if m < 7:\n",
    "            mems = np.random.choice(ens[:7], 3, replace=False)\n",
    "        else:\n",
    "            mems = np.random.choice(ens[7:], 1, replace=False)\n",
    "\n",
    "        tdata[m] = int_dict[name]['temp'].isel(ensmem=mems).mean(\"ensmem\")\n",
    "        sdata[m] = int_dict[name]['sw'].isel(ensmem=mems).mean(\"ensmem\")\n",
    "        rdata[m] = tdata[m]/sdata[m]\n",
    "        ecs[m] = ecs_dict[name]\n",
    "\n",
    "    tslope, intcpt, r, p, stderr = linregress(ecs, tdata)\n",
    "    sslope, intcpt, r, p, stderr = linregress(ecs, sdata)\n",
    "    rslope, rintcpt, r, p, stderr = linregress(ecs, rdata)\n",
    "\n",
    "    tslopes[n] = tslope\n",
    "    sslopes[n] = sslope\n",
    "    rslopes[n] = rslope"
   ]
  },
  {
   "cell_type": "markdown",
   "id": "d0a4b9b9-6e31-4b26-82a8-3c51a74c3e8d",
   "metadata": {
    "tags": []
   },
   "source": [
    "### Slope from Bender et al. paper using CMIP3 data"
   ]
  },
  {
   "cell_type": "code",
   "execution_count": 10,
   "id": "f6dc16d9-89ad-4c11-bd29-820d28199df2",
   "metadata": {
    "tags": []
   },
   "outputs": [],
   "source": [
    "bender_slope = -0.022398258141252"
   ]
  },
  {
   "cell_type": "code",
   "execution_count": 11,
   "id": "c3e2751d-2051-4a8f-a960-0937b942a7d4",
   "metadata": {
    "tags": []
   },
   "outputs": [
    {
     "name": "stdout",
     "output_type": "stream",
     "text": [
      "Area above 0 =  0.291\n"
     ]
    },
    {
     "data": {
      "image/png": "[encoded data removed]",
      "text/plain": [
       "<Figure size 600x400 with 1 Axes>"
      ]
     },
     "metadata": {},
     "output_type": "display_data"
    }
   ],
   "source": [
    "fig = plt.figure(1)\n",
    "plt.hist(rslopes, bins=\"auto\", density=True)\n",
    "plt.plot([bender_slope, bender_slope], [0, 50], \"k--\")\n",
    "x = np.linspace(min(rslopes), max(rslopes), 1000)\n",
    "df, mu, std = t.fit(rslopes)\n",
    "\n",
    "area = t.cdf(1, df, loc=mu, scale=std) - t.cdf(0, df, loc=mu, scale=std)\n",
    "print(f\"Area above 0 = {area: 5.3f}\")\n",
    "plt.plot(x, t.pdf(x, df, mu, std))\n",
    "plt.ylabel(\"probability density [W m$^{-2}$]\")\n",
    "plt.xlabel(\"regression slope [(W m$^{-2}$)$^{-1}$]\")\n",
    "plt.grid()\n",
    "plt.ylim(0, 26)\n",
    "plt.xlim(-0.2, 0.2)\n",
    "\n",
    "plt.annotate(f\"df = {df:5.3f}\", xy=(0.05, 0.95), xycoords=\"axes fraction\")\n",
    "plt.annotate(f\"$\\mu$ = {mu:5.3f}\", xy=(0.05, 0.9), xycoords=\"axes fraction\")\n",
    "plt.annotate(f\"$\\sigma$ = {std:5.3f}\", xy=(0.05, 0.85), xycoords=\"axes fraction\")\n",
    "\n",
    "fig.savefig(\"../figures/montecarlo_rslopes.pdf\",\n",
    "            bbox_inches=\"tight\")"
   ]
  },
  {
   "cell_type": "code",
   "execution_count": 12,
   "id": "4c5bc0ae-0215-445c-8d50-19b7505553d7",
   "metadata": {
    "tags": []
   },
   "outputs": [
    {
     "name": "stdout",
     "output_type": "stream",
     "text": [
      "95% Confidence interval: (-0.0525, 0.0348)\n"
     ]
    },
    {
     "name": "stderr",
     "output_type": "stream",
     "text": [
      "/var/folders/fx/t8hgkk_n3z1fz9z_z3q6qlcsvq921y/T/ipykernel_35154/3924656796.py:1: DeprecationWarning: Use of keyword argument 'alpha' for method 'interval' is deprecated and wil be removed in SciPy 1.11.0. Use first positional argument or keyword argument 'confidence' instead.\n",
      "  a, b = t.interval(alpha=0.95, df=df, loc=mu, scale=std)\n"
     ]
    }
   ],
   "source": [
    "a, b = t.interval(alpha=0.95, df=df, loc=mu, scale=std)\n",
    "print(f\"95% Confidence interval: ({a:5.4f}, {b:5.4f})\")"
   ]
  },
  {
   "cell_type": "code",
   "execution_count": null,
   "id": "80693030-ce7c-446f-bcf2-15f8dea63dc0",
   "metadata": {},
   "outputs": [],
   "source": []
  }
 ],
 "metadata": {
  "kernelspec": {
   "display_name": "Python 3 (ipykernel)",
   "language": "python",
   "name": "python3"
  },
  "language_info": {
   "codemirror_mode": {
    "name": "ipython",
    "version": 3
   },
   "file_extension": ".py",
   "mimetype": "text/x-python",
   "name": "python",
   "nbconvert_exporter": "python",
   "pygments_lexer": "ipython3",
   "version": "3.10.9"
  }
 },
 "nbformat": 4,
 "nbformat_minor": 5
}
