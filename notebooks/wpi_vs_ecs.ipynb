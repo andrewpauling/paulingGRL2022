{
 "cells": [
  {
   "cell_type": "code",
   "execution_count": 1,
   "id": "16cfaacb-ffdc-4393-9e45-4f1f9bfbb502",
   "metadata": {},
   "outputs": [],
   "source": [
    "import numpy as np\n",
    "import matplotlib as mpl\n",
    "import matplotlib.pyplot as plt\n",
    "import matplotlib.pylab as pl\n",
    "import xarray as xr\n",
    "import pandas as pd\n",
    "import os\n",
    "from glob import glob\n",
    "from paulinggrl2022.model import Model\n",
    "from paulinggrl2022.cesm_functions import fixmonth, globalmean\n",
    "from scipy.stats import linregress\n",
    "\n",
    "mpl.rcParams[\"figure.figsize\"] = 6, 4\n",
    "mpl.rcParams[\"font.size\"] = 10"
   ]
  },
  {
   "cell_type": "code",
   "execution_count": 2,
   "id": "5c22b1ad-e204-40ff-8fa4-6f1608b41bbf",
   "metadata": {},
   "outputs": [
    {
     "data": {
      "text/html": [
       "<div>\n",
       "    <div style=\"width: 24px; height: 24px; background-color: #e1e1e1; border: 3px solid #9D9D9D; border-radius: 5px; position: absolute;\"> </div>\n",
       "    <div style=\"margin-left: 48px;\">\n",
       "        <h3 style=\"margin-bottom: 0px;\">Client</h3>\n",
       "        <p style=\"color: #9D9D9D; margin-bottom: 0px;\">Client-5c9499a2-9862-11ed-98f3-3cecef1b11de</p>\n",
       "        <table style=\"width: 100%; text-align: left;\">\n",
       "\n",
       "        <tr>\n",
       "        \n",
       "            <td style=\"text-align: left;\"><strong>Connection method:</strong> Cluster object</td>\n",
       "            <td style=\"text-align: left;\"><strong>Cluster type:</strong> dask_jobqueue.PBSCluster</td>\n",
       "        \n",
       "        </tr>\n",
       "\n",
       "        \n",
       "            <tr>\n",
       "                <td style=\"text-align: left;\">\n",
       "                    <strong>Dashboard: </strong> <a href=\"https://jupyterhub.hpc.ucar.edu/stable/user/apauling/proxy/8787/status\" target=\"_blank\">https://jupyterhub.hpc.ucar.edu/stable/user/apauling/proxy/8787/status</a>\n",
       "                </td>\n",
       "                <td style=\"text-align: left;\"></td>\n",
       "            </tr>\n",
       "        \n",
       "\n",
       "        </table>\n",
       "\n",
       "        \n",
       "            <details>\n",
       "            <summary style=\"margin-bottom: 20px;\"><h3 style=\"display: inline;\">Cluster Info</h3></summary>\n",
       "            <div class=\"jp-RenderedHTMLCommon jp-RenderedHTML jp-mod-trusted jp-OutputArea-output\">\n",
       "    <div style=\"width: 24px; height: 24px; background-color: #e1e1e1; border: 3px solid #9D9D9D; border-radius: 5px; position: absolute;\">\n",
       "    </div>\n",
       "    <div style=\"margin-left: 48px;\">\n",
       "        <h3 style=\"margin-bottom: 0px; margin-top: 0px;\">PBSCluster</h3>\n",
       "        <p style=\"color: #9D9D9D; margin-bottom: 0px;\">fd08b142</p>\n",
       "        <table style=\"width: 100%; text-align: left;\">\n",
       "            <tr>\n",
       "                <td style=\"text-align: left;\">\n",
       "                    <strong>Dashboard:</strong> <a href=\"https://jupyterhub.hpc.ucar.edu/stable/user/apauling/proxy/8787/status\" target=\"_blank\">https://jupyterhub.hpc.ucar.edu/stable/user/apauling/proxy/8787/status</a>\n",
       "                </td>\n",
       "                <td style=\"text-align: left;\">\n",
       "                    <strong>Workers:</strong> 0\n",
       "                </td>\n",
       "            </tr>\n",
       "            <tr>\n",
       "                <td style=\"text-align: left;\">\n",
       "                    <strong>Total threads:</strong> 0\n",
       "                </td>\n",
       "                <td style=\"text-align: left;\">\n",
       "                    <strong>Total memory:</strong> 0 B\n",
       "                </td>\n",
       "            </tr>\n",
       "            \n",
       "        </table>\n",
       "\n",
       "        <details>\n",
       "            <summary style=\"margin-bottom: 20px;\">\n",
       "                <h3 style=\"display: inline;\">Scheduler Info</h3>\n",
       "            </summary>\n",
       "\n",
       "            <div style=\"\">\n",
       "    <div>\n",
       "        <div style=\"width: 24px; height: 24px; background-color: #FFF7E5; border: 3px solid #FF6132; border-radius: 5px; position: absolute;\"> </div>\n",
       "        <div style=\"margin-left: 48px;\">\n",
       "            <h3 style=\"margin-bottom: 0px;\">Scheduler</h3>\n",
       "            <p style=\"color: #9D9D9D; margin-bottom: 0px;\">Scheduler-3b760dad-77c6-4603-be14-618f6f1a5fe7</p>\n",
       "            <table style=\"width: 100%; text-align: left;\">\n",
       "                <tr>\n",
       "                    <td style=\"text-align: left;\">\n",
       "                        <strong>Comm:</strong> tcp://10.12.206.51:39192\n",
       "                    </td>\n",
       "                    <td style=\"text-align: left;\">\n",
       "                        <strong>Workers:</strong> 0\n",
       "                    </td>\n",
       "                </tr>\n",
       "                <tr>\n",
       "                    <td style=\"text-align: left;\">\n",
       "                        <strong>Dashboard:</strong> <a href=\"https://jupyterhub.hpc.ucar.edu/stable/user/apauling/proxy/8787/status\" target=\"_blank\">https://jupyterhub.hpc.ucar.edu/stable/user/apauling/proxy/8787/status</a>\n",
       "                    </td>\n",
       "                    <td style=\"text-align: left;\">\n",
       "                        <strong>Total threads:</strong> 0\n",
       "                    </td>\n",
       "                </tr>\n",
       "                <tr>\n",
       "                    <td style=\"text-align: left;\">\n",
       "                        <strong>Started:</strong> Just now\n",
       "                    </td>\n",
       "                    <td style=\"text-align: left;\">\n",
       "                        <strong>Total memory:</strong> 0 B\n",
       "                    </td>\n",
       "                </tr>\n",
       "            </table>\n",
       "        </div>\n",
       "    </div>\n",
       "\n",
       "    <details style=\"margin-left: 48px;\">\n",
       "        <summary style=\"margin-bottom: 20px;\">\n",
       "            <h3 style=\"display: inline;\">Workers</h3>\n",
       "        </summary>\n",
       "\n",
       "        \n",
       "\n",
       "    </details>\n",
       "</div>\n",
       "\n",
       "        </details>\n",
       "    </div>\n",
       "</div>\n",
       "            </details>\n",
       "        \n",
       "\n",
       "    </div>\n",
       "</div>"
      ],
      "text/plain": [
       "<Client: 'tcp://10.12.206.51:39192' processes=0 threads=0, memory=0 B>"
      ]
     },
     "execution_count": 2,
     "metadata": {},
     "output_type": "execute_result"
    }
   ],
   "source": [
    "from dask_jobqueue import PBSCluster\n",
    "\n",
    "cluster = PBSCluster(project='UWAS0052',\n",
    "                     queue='casper',\n",
    "                     cores=18,\n",
    "                     processes=9,\n",
    "                     memory='200G',\n",
    "                     walltime=\"03:00:00\",\n",
    "                     resource_spec='select=1:ncpus=18:mem=200GB')\n",
    "cluster.scale(18)\n",
    "\n",
    "from dask.distributed import Client\n",
    "\n",
    "client = Client(cluster)\n",
    "client"
   ]
  },
  {
   "cell_type": "code",
   "execution_count": 3,
   "id": "e6b23110-e52f-4ef6-908d-a6e7f1cdf7db",
   "metadata": {},
   "outputs": [],
   "source": [
    "models = [\n",
    "    \"ACCESS-ESM1-5\",\n",
    "    \"CanESM5\",\n",
    "    \"CESM2\",\n",
    "    \"CNRM-CM6-1\",\n",
    "    \"EC-Earth3\",\n",
    "    \"GISS-E2-1-G\",\n",
    "    \"GISS-E2-1-H\",\n",
    "    \"INM-CM5-0\",\n",
    "    \"IPSL-CM6A-LR\",\n",
    "    \"MIROC-ES2L\",\n",
    "    \"MIROC6\",\n",
    "    \"MPI-ESM1-2-HR\",\n",
    "    \"MPI-ESM1-2-LR\",\n",
    "    \"MRI-ESM2-0\",\n",
    "    \"NorCPM1\",\n",
    "    \"UKESM1-0-LL\"\n",
    "]\n",
    "\n",
    "experiments = [\"historical\", \"abrupt-4xCO2\"]"
   ]
  },
  {
   "cell_type": "markdown",
   "id": "e5161c13-4799-491e-ae37-86391f3794d8",
   "metadata": {},
   "source": [
    "### Instructions for getting CMIP6 data needed for this calculation\n",
    "\n",
    "### <font color=\"red\">WARNING: This will download a LOT of data. Best to do this on an HPC environment</font>\n",
    "\n",
    " - Download the git repository here: https://github.com/tloureiro/cmip6_downloader\n",
    " - Use the `cmip6_downloader.py` tool to get both the historical and abrupt-4xCO2 data for all the models listed in the cell above\n",
    " - Modify the script `process_data.py` in `paulinggrl2022/paulinggrl2022` to point to where you downloaded the data and run it to generate concatenated files\n",
    " - Create a symbolic link in the `paulinggrl2022/data` directory to point to where your data is like so:\n",
    " ```\n",
    " ln -s <path_to_your_data> cmip6data\n",
    " ```\n",
    " - Run the code from this point forwards\n",
    " "
   ]
  },
  {
   "cell_type": "code",
   "execution_count": 4,
   "id": "3e53efcf-c37a-4f13-9c3d-96fe3eff1568",
   "metadata": {},
   "outputs": [
    {
     "name": "stdout",
     "output_type": "stream",
     "text": [
      "ACCESS-ESM1-5\n",
      "CanESM5\n",
      "CESM2\n",
      "CNRM-CM6-1\n",
      "EC-Earth3\n",
      "GISS-E2-1-G\n",
      "GISS-E2-1-H\n",
      "INM-CM5-0\n",
      "IPSL-CM6A-LR\n",
      "MIROC-ES2L\n",
      "MIROC6\n",
      "MPI-ESM1-2-HR\n",
      "MPI-ESM1-2-LR\n",
      "MRI-ESM2-0\n",
      "NorCPM1\n",
      "UKESM1-0-LL\n"
     ]
    }
   ],
   "source": [
    "ddict = {}\n",
    "\n",
    "for name in models:\n",
    "    ddict[name] = {}\n",
    "    print(name)\n",
    "    \n",
    "    for exp in experiments:\n",
    "        model = Model(name, exp, \"tas\")\n",
    "        model.process_data()\n",
    "        model.load_ensemble()\n",
    "        if exp == \"historical\":\n",
    "            da = model.dataset[\"tas\"].sel(time=slice(\"1986-01\", \"1999-12\"))\n",
    "        else:\n",
    "            da = model.dataset[\"tas\"].isel(time=slice(None, 1800))\n",
    "\n",
    "        ddict[name][exp] = da.groupby(\"time.year\").mean(\"time\")"
   ]
  },
  {
   "cell_type": "markdown",
   "id": "4718b8e3-5f0a-45f1-941c-699cebfe2394",
   "metadata": {},
   "source": [
    "### Fix weird latitude issue with EC-Earth data"
   ]
  },
  {
   "cell_type": "code",
   "execution_count": 5,
   "id": "5d61b6e2-b619-4813-b65c-5e630473dff4",
   "metadata": {},
   "outputs": [],
   "source": [
    "droot = \"../data/cmip6data\"\n",
    "ddir = \"v_tas_f_mon_e_historical_s_EC-Earth3/processed\"\n",
    "dfiles = sorted(glob(os.path.join(droot, ddir, \"*.nc\")))\n",
    "\n",
    "ds = xr.open_dataset(dfiles[0])\n",
    "lat = ds[\"lat\"].data\n",
    "\n",
    "for exp in experiments:\n",
    "    ddict[\"EC-Earth3\"][exp] = ddict[\"EC-Earth3\"][exp].assign_coords({\"lat\": (\"lat\", lat)})"
   ]
  },
  {
   "cell_type": "code",
   "execution_count": null,
   "id": "b7cb7ae7-6e6b-41f7-95d2-e679f2cdb1bf",
   "metadata": {},
   "outputs": [],
   "source": []
  },
  {
   "cell_type": "code",
   "execution_count": 2,
   "id": "015e5c7e-f5fb-446c-b43c-d5156b967a04",
   "metadata": {},
   "outputs": [],
   "source": [
    "def compute_warm_pool(da):\n",
    "    # Computes the warm pool region temperature as defined in Gunther et al. (2022)\n",
    "    tmp = da.sel(lat=slice(-30, 30), lon=slice(50, 200))\n",
    "    return tmp.weighted(np.cos(np.deg2rad(tmp.lat))).mean((\"lat\", \"lon\"))"
   ]
  },
  {
   "cell_type": "code",
   "execution_count": 7,
   "id": "4e56403c-9444-45dd-a85c-ca2b569d74d1",
   "metadata": {},
   "outputs": [
    {
     "name": "stdout",
     "output_type": "stream",
     "text": [
      "ACCESS-ESM1-5\n",
      "CanESM5\n",
      "CESM2\n",
      "CNRM-CM6-1\n",
      "EC-Earth3\n",
      "GISS-E2-1-G\n",
      "GISS-E2-1-H\n",
      "INM-CM5-0\n",
      "IPSL-CM6A-LR\n",
      "MIROC-ES2L\n",
      "MIROC6\n",
      "MPI-ESM1-2-HR\n",
      "MPI-ESM1-2-LR\n",
      "MRI-ESM2-0\n",
      "NorCPM1\n",
      "UKESM1-0-LL\n"
     ]
    }
   ],
   "source": [
    "gmst = {}\n",
    "warmpool = {}\n",
    "\n",
    "for name in models:\n",
    "    print(name)\n",
    "    gmst[name] = {}\n",
    "    warmpool[name] = {}\n",
    "    for exp in experiments:\n",
    "        gmst[name][exp] = globalmean(ddict[name][exp]).mean(\"ensmem\").compute()\n",
    "        warmpool[name][exp] = compute_warm_pool(ddict[name][exp]).mean(\"ensmem\").compute()"
   ]
  },
  {
   "cell_type": "markdown",
   "id": "7f644dc2-0236-4206-9785-8e13712f72dc",
   "metadata": {},
   "source": [
    "### Compute the Warm Pool Index as defined in G&uuml;nther et al. (2022)"
   ]
  },
  {
   "cell_type": "code",
   "execution_count": 8,
   "id": "49ae3851-4ae6-4773-9ce3-f9d3a50b01ae",
   "metadata": {},
   "outputs": [
    {
     "name": "stdout",
     "output_type": "stream",
     "text": [
      "ACCESS-ESM1-5: 1.136\n",
      "ACCESS-ESM1-5: 0.742\n",
      "CanESM5: 1.191\n",
      "CanESM5: 0.824\n",
      "CESM2: 0.857\n",
      "CESM2: 0.889\n",
      "CNRM-CM6-1: 0.749\n",
      "CNRM-CM6-1: 0.791\n",
      "EC-Earth3: 1.082\n",
      "EC-Earth3: 0.753\n",
      "GISS-E2-1-G: 1.114\n",
      "GISS-E2-1-G: 1.063\n",
      "GISS-E2-1-H: 1.114\n",
      "GISS-E2-1-H: 0.836\n",
      "INM-CM5-0: 0.874\n",
      "INM-CM5-0: 0.716\n",
      "IPSL-CM6A-LR: 0.923\n",
      "IPSL-CM6A-LR: 0.825\n",
      "MIROC-ES2L: 1.043\n",
      "MIROC-ES2L: 0.893\n",
      "MIROC6: 0.834\n",
      "MIROC6: 0.923\n",
      "MPI-ESM1-2-HR: 1.336\n",
      "MPI-ESM1-2-HR: 0.846\n",
      "MPI-ESM1-2-LR: 1.124\n",
      "MPI-ESM1-2-LR: 0.885\n",
      "MRI-ESM2-0: 1.028\n",
      "MRI-ESM2-0: 0.857\n",
      "NorCPM1: 1.189\n",
      "NorCPM1: 0.708\n",
      "UKESM1-0-LL: 1.114\n",
      "UKESM1-0-LL: 0.779\n"
     ]
    }
   ],
   "source": [
    "wpi = {}\n",
    "for name in models:\n",
    "    wpi[name] = {}\n",
    "    for exp in experiments:\n",
    "        if exp == \"historical\":\n",
    "            g = gmst[name][exp].sel(year=slice(1991, 1993))\n",
    "            w = warmpool[name][exp].sel(year=slice(1991, 1993))\n",
    "        else:\n",
    "            g = gmst[name][exp].isel(year=slice(0, 150))\n",
    "            w = warmpool[name][exp].isel(year=slice(0, 150))\n",
    "\n",
    "        slope, intcpt, r, p, stderr = linregress(g.data, w.data)\n",
    "        print(f\"{name}: {slope:5.3f}\")\n",
    "\n",
    "        wpi[name][exp] = slope"
   ]
  },
  {
   "cell_type": "code",
   "execution_count": 9,
   "id": "df141282-b8dd-460d-979e-ed38cc7fab02",
   "metadata": {},
   "outputs": [
    {
     "name": "stdout",
     "output_type": "stream",
     "text": [
      "ACCESS-ESM1-5 = 3.8839034758064876\n",
      "CanESM5 = 5.638903077035479\n",
      "CESM2 = 5.147915202979365\n",
      "CNRM-CM6-1 = 4.9036506204610255\n",
      "EC-Earth3 = 4.2600669989023405\n",
      "GISS-E2-1-G = 2.635084837796116\n",
      "GISS-E2-1-H = 3.1173410786926183\n",
      "INM-CM5-0 = 1.9158220047671057\n",
      "IPSL-CM6A-LR = 4.699160878253559\n",
      "MIROC-ES2L = 2.6605264351565174\n",
      "MIROC6 = 2.601790969650521\n",
      "MPI-ESM1-2-HR = 2.9797516932086876\n",
      "MPI-ESM1-2-LR = 3.0254401947450527\n",
      "MRI-ESM2-0 = 3.1327957128560495\n",
      "NorCPM1 = 3.031725720887037\n",
      "UKESM1-0-LL = 5.359162439690016\n"
     ]
    }
   ],
   "source": [
    "import json\n",
    "\n",
    "f = open('../data/ecsdata/cmip56_forcing_feedback_ecs.json','r')\n",
    "data = json.load(f)\n",
    "\n",
    "ecs_dict = {}\n",
    "\n",
    "for name in models:\n",
    "    ens = list(data[\"CMIP6\"][name].keys())[0]\n",
    "    test = data[\"CMIP6\"][name][ens][\"ECS\"]\n",
    "    print(f\"{name} = {test}\")\n",
    "    ecs_dict[name] = test\n",
    "    \n",
    "ecs_dict[\"CESM2-LENS\"] = ecs_dict[\"CESM2\"]"
   ]
  },
  {
   "cell_type": "code",
   "execution_count": 10,
   "id": "591a40c3-e8b8-43dc-9730-146462ecbed3",
   "metadata": {},
   "outputs": [
    {
     "name": "stdout",
     "output_type": "stream",
     "text": [
      "Slope= 0.004\n",
      "r = 0.025\n",
      "p = 0.926\n"
     ]
    }
   ],
   "source": [
    "delta_wpi = np.array([wpi[name][\"historical\"] - wpi[name][\"abrupt-4xCO2\"] for name in models])\n",
    "ecs = np.array([ecs_dict[name] for name in models])\n",
    "\n",
    "slope, intcpt, r, p, stderr = linregress(ecs, delta_wpi)\n",
    "print(f\"Slope= {slope:5.3f}\")\n",
    "print(f\"r = {r:5.3f}\")\n",
    "print(f\"p = {p:5.3f}\")"
   ]
  },
  {
   "cell_type": "code",
   "execution_count": 11,
   "id": "4fff2e5a-5ff3-4053-9e3a-19e8d870c4a4",
   "metadata": {},
   "outputs": [
    {
     "data": {
      "image/png": "[encoded data removed]",
      "text/plain": [
       "<Figure size 600x400 with 1 Axes>"
      ]
     },
     "metadata": {},
     "output_type": "display_data"
    }
   ],
   "source": [
    "colors = pl.cm.tab20.colors\n",
    "\n",
    "fig = plt.figure(1)\n",
    "for n, name in enumerate(models):\n",
    "    delta_wpi = wpi[name][\"historical\"] - wpi[name][\"abrupt-4xCO2\"]\n",
    "    plt.plot(ecs_dict[name], delta_wpi, \"o\", label=name, color=colors[n])\n",
    "    \n",
    "plt.legend(loc=\"center left\", bbox_to_anchor=(1.0, 0.5))\n",
    "plt.grid()\n",
    "plt.xlabel(\"ECS [K]\")\n",
    "plt.ylabel(\"$\\Delta$WPI\")\n",
    "\n",
    "plt.annotate(\n",
    "    f\"$r^2=${r**2:5.3f}\\n$p=${p:5.3f}\",\n",
    "    xy=(0.02, 0.87),\n",
    "    xycoords=\"axes fraction\",\n",
    "    fontsize=12\n",
    ")\n",
    "\n",
    "fig.savefig(\"../figures/deltawpi_150yr_vs_ecs.png\",\n",
    "            bbox_inches=\"tight\", dpi=300)"
   ]
  },
  {
   "cell_type": "code",
   "execution_count": null,
   "id": "81a74b2b-24fa-4cb8-80ae-5b201b98d69b",
   "metadata": {},
   "outputs": [],
   "source": []
  },
  {
   "cell_type": "code",
   "execution_count": null,
   "id": "78c42120-bd04-4705-bdb3-c205cdd1cada",
   "metadata": {},
   "outputs": [],
   "source": []
  }
 ],
 "metadata": {
  "kernelspec": {
   "display_name": "Python 3 (ipykernel)",
   "language": "python",
   "name": "python3"
  },
  "language_info": {
   "codemirror_mode": {
    "name": "ipython",
    "version": 3
   },
   "file_extension": ".py",
   "mimetype": "text/x-python",
   "name": "python",
   "nbconvert_exporter": "python",
   "pygments_lexer": "ipython3",
   "version": "3.10.8"
  }
 },
 "nbformat": 4,
 "nbformat_minor": 5
}
